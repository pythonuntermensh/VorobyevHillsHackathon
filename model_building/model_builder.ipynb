{
  "cells": [
    {
      "cell_type": "code",
      "execution_count": null,
      "metadata": {
        "id": "xSBx8r6mBVNn",
        "colab": {
          "base_uri": "https://localhost:8080/"
        },
        "outputId": "69ba3970-307f-4571-cd73-9c46fc408b8a"
      },
      "outputs": [
        {
          "output_type": "stream",
          "name": "stderr",
          "text": [
            "[nltk_data] Downloading package stopwords to /root/nltk_data...\n",
            "[nltk_data]   Unzipping corpora/stopwords.zip.\n",
            "[nltk_data] Downloading package punkt to /root/nltk_data...\n",
            "[nltk_data]   Unzipping tokenizers/punkt.zip.\n"
          ]
        }
      ],
      "source": [
        "import warnings\n",
        "warnings.simplefilter(action='ignore', category=FutureWarning)\n",
        "\n",
        "import re, string\n",
        "import pandas as pd\n",
        "import numpy as np\n",
        "from tqdm.auto import tqdm, trange\n",
        "\n",
        "import nltk\n",
        "nltk.download('stopwords')\n",
        "\n",
        "from nltk import word_tokenize\n",
        "nltk.download('punkt')\n",
        "\n",
        "from nltk.stem import *\n",
        "from nltk.stem.snowball import SnowballStemmer\n",
        "from nltk.corpus import stopwords\n",
        "\n",
        "from pymystem3 import Mystem\n",
        "from string import punctuation\n",
        "\n",
        "from sklearn.model_selection import train_test_split\n",
        "from sklearn.pipeline import Pipeline\n",
        "from sklearn.feature_extraction.text import TfidfTransformer\n",
        "from sklearn.feature_extraction.text import CountVectorizer\n",
        "from sklearn.linear_model import LogisticRegression\n",
        "from sklearn.metrics import accuracy_score\n",
        "from sklearn.metrics import classification_report"
      ]
    },
    {
      "cell_type": "code",
      "source": [
        "def preprocess_data(df_1):\n",
        "\n",
        "  # Preparation\n",
        "  def remove_stickers(text):\n",
        "    if text != text:\n",
        "      return np.nan\n",
        "    # Паттерн для поиска стикеров в формате [стикер]\n",
        "    pattern = r\"[^\\w.!?,:;$\\s/\\\"\\']*\"\n",
        "    cleaned_text = re.sub(pattern, \"\", str(text))\n",
        "    return cleaned_text\n",
        "\n",
        "  def remove_punctuation(text):\n",
        "      return \"\".join([ch if ch not in string.punctuation else ' ' for ch in text])\n",
        "\n",
        "  def remove_numbers(text):\n",
        "      return ''.join([i if not i.isdigit() else ' ' for i in text])\n",
        "\n",
        "  def remove_multiple_spaces(text):\n",
        "    return re.sub(r'\\s+', ' ', text, flags=re.I)\n",
        "\n",
        "  mystem = Mystem()\n",
        "  russian_stopwords = stopwords.words(\"russian\")\n",
        "  russian_stopwords.extend(['…', '«', '»', '...'])\n",
        "  def lemmatize_text(text):\n",
        "      tokens = mystem.lemmatize(text.lower())\n",
        "      tokens = [token for token in tokens if token not in russian_stopwords and token != \" \"]\n",
        "      text = \" \".join(tokens)\n",
        "      return text\n",
        "\n",
        "  russian_stopwords = stopwords.words(\"russian\")\n",
        "  russian_stopwords.extend(['…', '«', '»', '...', 'т.д.', 'т', 'д'])\n",
        "  def remove_stop_words(text):\n",
        "    tokens = word_tokenize(text)\n",
        "    tokens = [token for token in tokens if token not in russian_stopwords and token != ' ']\n",
        "    return \" \".join(tokens)\n",
        "\n",
        "  def lemmatize_text(text):\n",
        "    text_lem = mystem.lemmatize(text)\n",
        "    tokens = [token for token in text_lem if token != ' ' and token not in russian_stopwords]\n",
        "    return \" \".join(tokens)\n",
        "\n",
        "  # Removing rows with blank cells and NaN's\n",
        "  df_1 = df_1.replace(r'^s*$', float('NaN'), regex = True)\n",
        "  df_1 = df_1.dropna(subset=['Text'])\n",
        "\n",
        "  # Shuffling\n",
        "  df_1 = df_1.reset_index()\n",
        "  df_1 = df_1.drop(['index'], axis=1)\n",
        "\n",
        "  # Removing Stickers\n",
        "  for i in range(df_1.shape[0]):\n",
        "    df_1['Text'][i] = remove_stickers(str(df_1['Text'][i]))\n",
        "\n",
        "  # Fast preproccessing\n",
        "  preproccessing = lambda text: (remove_multiple_spaces(remove_numbers(remove_punctuation(text.lower()))))\n",
        "  df_1['Preproccessed'] = list(map(preproccessing, df_1['Text']))\n",
        "\n",
        "  # Stemming\n",
        "  stemmer = SnowballStemmer(\"russian\")\n",
        "  stemmed_texts_list = []\n",
        "  for text in tqdm(df_1['Preproccessed']):\n",
        "      tokens = word_tokenize(text)\n",
        "      stemmed_tokens = [stemmer.stem(token) for token in tokens if token not in russian_stopwords]\n",
        "      text = \" \".join(stemmed_tokens)\n",
        "      stemmed_texts_list.append(text)\n",
        "\n",
        "  df_1['text_stem'] = stemmed_texts_list\n",
        "\n",
        "  # Removing stop words\n",
        "  sw_texts_list = []\n",
        "  for text in tqdm(df_1['Preproccessed']):\n",
        "      text = remove_stop_words(text)\n",
        "      sw_texts_list.append(text)\n",
        "\n",
        "  df_1['text_sw'] = sw_texts_list\n",
        "\n",
        "  # Lemmatize\n",
        "  lemm_texts_list = []\n",
        "  for text in tqdm(df_1['text_sw']):\n",
        "      try:\n",
        "          text = lemmatize_text(text)\n",
        "          lemm_texts_list.append(text)\n",
        "      except Exception as e:\n",
        "          print(e)\n",
        "\n",
        "  df_1['text_lemm'] = lemm_texts_list\n",
        "\n",
        "  return df_1"
      ],
      "metadata": {
        "id": "wfNsnHNNFwXa"
      },
      "execution_count": null,
      "outputs": []
    },
    {
      "cell_type": "code",
      "source": [
        "def build_data_frame():\n",
        "  data = pd.read_csv(\"sample.csv\")\n",
        "\n",
        "  df = pd.DataFrame()\n",
        "  df.loc[:, 'Class'] = data['class']\n",
        "  df.loc[:, 'Text'] = data['text']\n",
        "\n",
        "  df_1 = pd.DataFrame(columns = [\"Text\", \"Class\", \"Preproccessed\"])\n",
        "\n",
        "  # proxy - доверенность\n",
        "  # contract - договор\n",
        "  # act - акт\n",
        "  # application - заявление\n",
        "  # order - приказ\n",
        "  # invoice - счет\n",
        "  # bill - приложение\n",
        "  # arrangement - соглашение\n",
        "  # contract offer - договор оферты\n",
        "  # statute - устав\n",
        "  # determination - решение\n",
        "\n",
        "  df_1.loc[:, 'Class'] = df['Class']\n",
        "  df_1.loc[:, 'Text'] = df['Text']\n",
        "\n",
        "  df_pdf_add = pd.read_excel(\"test_pdf.xlsx\")\n",
        "  df_docx_add = pd.read_excel(\"test_docx.xlsx\")\n",
        "\n",
        "  # df_noise = pd.read_csv(\"dataset.csv\")\n",
        "  # df_noise = df_noise.drop(['Unnamed: 0'], axis=1)\n",
        "\n",
        "  df_2 = pd.concat([df_1, df_pdf_add, df_docx_add], ignore_index=True)\n",
        "\n",
        "  return df_2"
      ],
      "metadata": {
        "id": "9ZHrU49jxV-j"
      },
      "execution_count": null,
      "outputs": []
    },
    {
      "cell_type": "code",
      "source": [
        "def train(print_accuracy=False):\n",
        "  # Building data frame\n",
        "\n",
        "  df_1 = build_data_frame()\n",
        "  df_1 = preprocess_data(df_1)\n",
        "\n",
        "  # Building model/pipeline\n",
        "\n",
        "  X = df_1['text_lemm']\n",
        "  y = df_1['Class']\n",
        "\n",
        "  X_train, X_test, y_train, y_test = train_test_split(X, y, test_size=0.3, random_state = 42)\n",
        "  classes = df_1['Class'].unique()\n",
        "\n",
        "  logreg = Pipeline([('vect', CountVectorizer()),\n",
        "                ('tfidf', TfidfTransformer()),\n",
        "                ('clf', LogisticRegression(n_jobs=1, C=1e5, max_iter=50)),\n",
        "               ])\n",
        "  logreg.fit(X_train, y_train)\n",
        "\n",
        "  if print_accuracy:\n",
        "    y_pred = logreg.predict(X_test)\n",
        "    print('accuracy %s' % accuracy_score(y_pred, y_test))\n",
        "    print(classification_report(y_test, y_pred,target_names=classes))\n",
        "\n",
        "  return logreg"
      ],
      "metadata": {
        "id": "RI8Dvh4UOHZw"
      },
      "execution_count": null,
      "outputs": []
    },
    {
      "cell_type": "code",
      "source": [
        "import pickle\n",
        "\n",
        "if __name__ == '__main__':\n",
        "\tmodel = train(print_accuracy=True)\n",
        "\n",
        "\tfilename = 'model_v1.pk'\n",
        "\twith open(filename, 'wb') as file:\n",
        "\t\tpickle.dump(model, file)"
      ],
      "metadata": {
        "colab": {
          "base_uri": "https://localhost:8080/",
          "height": 574,
          "referenced_widgets": [
            "0fc2262f496a4966be2c91ece3362de5",
            "21403ec225524ddfb1dada48345b7b5d",
            "8db4f30bfd134c6eb74c00ab3442ee36",
            "13696cb3e43e4af2b0928a9f285e3680",
            "9ae865d077b845cfb8be2ff63b51ddd1",
            "6c5f60c0664948729bbfa6fa0f2a1ac8",
            "4875be8943b844e9b0a70c8da2e7dc3d",
            "eba3a7d7a84c4ceda066f3bcd48fe4e3",
            "c2a0adebdf1c4dbb9acd9b9c3204650d",
            "5778c496df1d41a785bac00ae03978c1",
            "c91ca36c0f3142a0bcc77833f2c48b90",
            "7cb0e7fee0df477aa84dac299637fa92",
            "7663267736364cb79923851b123c747f",
            "f309284d1ca0449191c10dca92aa1ff7",
            "940b5b1b65484951a365b28ba32e91f4",
            "ef5b19431d654b319555c87ad291a1fa",
            "c5e255c495aa40849fd910f197701ac0",
            "62342afdd265481783399ed010b23a2d",
            "c7956e84b6684ac680fe1df8a15ec1d9",
            "0bab832611b34daeb63359ca4cb201d0",
            "668efda26a964eb9974f447901904c65",
            "a4fcf1384dc1447d93a6593566ac25ad",
            "b65fe913008544a5891570d2f27ed9b0",
            "0b9510650cf543898c22610988597858",
            "5b63ae113b134ea6b6240e9f4312949a",
            "290768aa89f4465ca4f71fc0763209d4",
            "021a46814eff41159d166a8bf2501227",
            "85ab6e313ecc40c7bf95c9a3c16882b3",
            "d4765bb8992a42ef8d964ce4bc04a030",
            "21fb54996b9348a5996e2b3abbeaf814",
            "e4abce933bc44c5d9da2574b552877ca",
            "6c8a1cf8587a4dbbb3a4f5b896aaab07",
            "11b49fec44b94a58a196f562d36fe912"
          ]
        },
        "id": "VFmz8V5WUruc",
        "outputId": "dbb1ce77-4857-41fc-cf06-0c80dc672b58"
      },
      "execution_count": null,
      "outputs": [
        {
          "output_type": "stream",
          "name": "stderr",
          "text": [
            "<ipython-input-13-5b5d354fe18b>:52: SettingWithCopyWarning: \n",
            "A value is trying to be set on a copy of a slice from a DataFrame\n",
            "\n",
            "See the caveats in the documentation: https://pandas.pydata.org/pandas-docs/stable/user_guide/indexing.html#returning-a-view-versus-a-copy\n",
            "  df_1['Text'][i] = remove_stickers(str(df_1['Text'][i]))\n"
          ]
        },
        {
          "output_type": "display_data",
          "data": {
            "text/plain": [
              "  0%|          | 0/12330 [00:00<?, ?it/s]"
            ],
            "application/vnd.jupyter.widget-view+json": {
              "version_major": 2,
              "version_minor": 0,
              "model_id": "0fc2262f496a4966be2c91ece3362de5"
            }
          },
          "metadata": {}
        },
        {
          "output_type": "display_data",
          "data": {
            "text/plain": [
              "  0%|          | 0/12330 [00:00<?, ?it/s]"
            ],
            "application/vnd.jupyter.widget-view+json": {
              "version_major": 2,
              "version_minor": 0,
              "model_id": "7cb0e7fee0df477aa84dac299637fa92"
            }
          },
          "metadata": {}
        },
        {
          "output_type": "display_data",
          "data": {
            "text/plain": [
              "  0%|          | 0/12330 [00:00<?, ?it/s]"
            ],
            "application/vnd.jupyter.widget-view+json": {
              "version_major": 2,
              "version_minor": 0,
              "model_id": "b65fe913008544a5891570d2f27ed9b0"
            }
          },
          "metadata": {}
        },
        {
          "output_type": "stream",
          "name": "stderr",
          "text": [
            "/usr/local/lib/python3.10/dist-packages/sklearn/linear_model/_logistic.py:458: ConvergenceWarning: lbfgs failed to converge (status=1):\n",
            "STOP: TOTAL NO. of ITERATIONS REACHED LIMIT.\n",
            "\n",
            "Increase the number of iterations (max_iter) or scale the data as shown in:\n",
            "    https://scikit-learn.org/stable/modules/preprocessing.html\n",
            "Please also refer to the documentation for alternative solver options:\n",
            "    https://scikit-learn.org/stable/modules/linear_model.html#logistic-regression\n",
            "  n_iter_i = _check_optimize_result(\n"
          ]
        },
        {
          "output_type": "stream",
          "name": "stdout",
          "text": [
            "accuracy 0.9586374695863747\n",
            "                  precision    recall  f1-score   support\n",
            "\n",
            "responsibilities       0.90      0.92      0.91       244\n",
            "    requirements       0.98      0.93      0.95      1075\n",
            "           terms       0.95      0.99      0.97      1340\n",
            "           notes       0.96      0.96      0.96      1040\n",
            "\n",
            "        accuracy                           0.96      3699\n",
            "       macro avg       0.95      0.95      0.95      3699\n",
            "    weighted avg       0.96      0.96      0.96      3699\n",
            "\n"
          ]
        }
      ]
    },
    {
      "cell_type": "code",
      "source": [
        "# Generating csv file with all datasets\n",
        "\n",
        "data = pd.read_csv(\"sample.csv\")\n",
        "\n",
        "df = pd.DataFrame()\n",
        "df.loc[:, 'Class'] = data['class']\n",
        "df.loc[:, 'Text'] = data['text']\n",
        "\n",
        "df_1 = pd.DataFrame(columns = [\"Text\", \"Class\"])\n",
        "df_1.loc[:, 'Class'] = df['Class']\n",
        "df_1.loc[:, 'Text'] = df['Text']\n",
        "\n",
        "df_pdf_add = pd.read_excel(\"test_pdf.xlsx\")\n",
        "df_docx_add = pd.read_excel(\"test_docx.xlsx\")\n",
        "\n",
        "df_2 = pd.concat([df_1, df_pdf_add, df_docx_add], ignore_index=True)\n",
        "\n",
        "df_2.to_csv(\"penis.csv\")"
      ],
      "metadata": {
        "id": "UKkhyzFwsEER"
      },
      "execution_count": null,
      "outputs": []
    },
    {
      "cell_type": "markdown",
      "source": [
        "# Naive Bayes Classifier"
      ],
      "metadata": {
        "id": "dUQLg6LfyBTQ"
      }
    },
    {
      "cell_type": "code",
      "source": [
        "from sklearn.naive_bayes import MultinomialNB"
      ],
      "metadata": {
        "id": "snMmoHzAs15W"
      },
      "execution_count": null,
      "outputs": []
    },
    {
      "cell_type": "code",
      "source": [
        "nb = Pipeline([('vect', CountVectorizer()),\n",
        "               ('tfidf', TfidfTransformer()),\n",
        "               ('clf', MultinomialNB()),\n",
        "              ])"
      ],
      "metadata": {
        "id": "SCJW-mFQs5RS"
      },
      "execution_count": null,
      "outputs": []
    },
    {
      "cell_type": "code",
      "source": [
        "nb.fit(X_train, y_train)"
      ],
      "metadata": {
        "id": "HEt_g4NQs6eZ"
      },
      "execution_count": null,
      "outputs": []
    },
    {
      "cell_type": "code",
      "source": [
        "y_pred = nb.predict(X_test)"
      ],
      "metadata": {
        "id": "uL91K2VutCXU"
      },
      "execution_count": null,
      "outputs": []
    },
    {
      "cell_type": "code",
      "source": [
        "y_pred[0]"
      ],
      "metadata": {
        "id": "hgy4Qp0RtE6-"
      },
      "execution_count": null,
      "outputs": []
    },
    {
      "cell_type": "code",
      "source": [
        "print('accuracy %s' % accuracy_score(y_pred, y_test))\n",
        "print(classification_report(y_test, y_pred, target_names=classes))\n",
        "\n"
      ],
      "metadata": {
        "id": "VEjl5bySu7Az"
      },
      "execution_count": null,
      "outputs": []
    },
    {
      "cell_type": "markdown",
      "source": [
        "# Linear Support Vector Machine"
      ],
      "metadata": {
        "id": "JR0z8wVqyWiW"
      }
    },
    {
      "cell_type": "code",
      "source": [
        "from sklearn.linear_model import SGDClassifier\n",
        "\n",
        "sgd = Pipeline([('vect', CountVectorizer()),\n",
        "                ('tfidf', TfidfTransformer()),\n",
        "                ('clf', SGDClassifier(loss='hinge', penalty='l2',alpha=1e-3, random_state=42, max_iter=5, tol=None)),\n",
        "               ])"
      ],
      "metadata": {
        "id": "_CcFr0F8yajV"
      },
      "execution_count": null,
      "outputs": []
    },
    {
      "cell_type": "code",
      "source": [
        "sgd.fit(X_train, y_train)"
      ],
      "metadata": {
        "id": "3K5Dv4LMydJW"
      },
      "execution_count": null,
      "outputs": []
    },
    {
      "cell_type": "code",
      "source": [
        "y_pred = sgd.predict(X_test)\n",
        "print('accuracy %s' % accuracy_score(y_pred, y_test))\n",
        "print(classification_report(y_test, y_pred,target_names=classes))"
      ],
      "metadata": {
        "id": "9MlkjH6Fyf4W"
      },
      "execution_count": null,
      "outputs": []
    },
    {
      "cell_type": "markdown",
      "source": [
        "# Logistic Regression"
      ],
      "metadata": {
        "id": "QGse3wp2yttt"
      }
    },
    {
      "cell_type": "code",
      "source": [
        "from sklearn.linear_model import LogisticRegression\n",
        "\n",
        "logreg = Pipeline([('vect', CountVectorizer()),\n",
        "                ('tfidf', TfidfTransformer()),\n",
        "                ('clf', LogisticRegression(n_jobs=1, C=1e5, max_iter=25)),\n",
        "               ])"
      ],
      "metadata": {
        "id": "CNrj3XoWyyxl"
      },
      "execution_count": null,
      "outputs": []
    },
    {
      "cell_type": "code",
      "source": [
        "logreg.fit(X_train, y_train)"
      ],
      "metadata": {
        "id": "bT4ec0Z_y1QX"
      },
      "execution_count": null,
      "outputs": []
    },
    {
      "cell_type": "code",
      "source": [
        "y_pred = logreg.predict(X_test)"
      ],
      "metadata": {
        "id": "wWAF_3yWy5Jj"
      },
      "execution_count": null,
      "outputs": []
    },
    {
      "cell_type": "code",
      "source": [
        "print('accuracy %s' % accuracy_score(y_pred, y_test))\n",
        "print(classification_report(y_test, y_pred,target_names=classes))"
      ],
      "metadata": {
        "id": "79p23bwvzB1b"
      },
      "execution_count": null,
      "outputs": []
    }
  ],
  "metadata": {
    "colab": {
      "provenance": [],
      "collapsed_sections": [
        "dUQLg6LfyBTQ",
        "JR0z8wVqyWiW",
        "QGse3wp2yttt"
      ]
    },
    "kernelspec": {
      "display_name": "Python 3",
      "name": "python3"
    },
    "language_info": {
      "name": "python"
    },
    "widgets": {
      "application/vnd.jupyter.widget-state+json": {
        "0fc2262f496a4966be2c91ece3362de5": {
          "model_module": "@jupyter-widgets/controls",
          "model_name": "HBoxModel",
          "model_module_version": "1.5.0",
          "state": {
            "_dom_classes": [],
            "_model_module": "@jupyter-widgets/controls",
            "_model_module_version": "1.5.0",
            "_model_name": "HBoxModel",
            "_view_count": null,
            "_view_module": "@jupyter-widgets/controls",
            "_view_module_version": "1.5.0",
            "_view_name": "HBoxView",
            "box_style": "",
            "children": [
              "IPY_MODEL_21403ec225524ddfb1dada48345b7b5d",
              "IPY_MODEL_8db4f30bfd134c6eb74c00ab3442ee36",
              "IPY_MODEL_13696cb3e43e4af2b0928a9f285e3680"
            ],
            "layout": "IPY_MODEL_9ae865d077b845cfb8be2ff63b51ddd1"
          }
        },
        "21403ec225524ddfb1dada48345b7b5d": {
          "model_module": "@jupyter-widgets/controls",
          "model_name": "HTMLModel",
          "model_module_version": "1.5.0",
          "state": {
            "_dom_classes": [],
            "_model_module": "@jupyter-widgets/controls",
            "_model_module_version": "1.5.0",
            "_model_name": "HTMLModel",
            "_view_count": null,
            "_view_module": "@jupyter-widgets/controls",
            "_view_module_version": "1.5.0",
            "_view_name": "HTMLView",
            "description": "",
            "description_tooltip": null,
            "layout": "IPY_MODEL_6c5f60c0664948729bbfa6fa0f2a1ac8",
            "placeholder": "​",
            "style": "IPY_MODEL_4875be8943b844e9b0a70c8da2e7dc3d",
            "value": "100%"
          }
        },
        "8db4f30bfd134c6eb74c00ab3442ee36": {
          "model_module": "@jupyter-widgets/controls",
          "model_name": "FloatProgressModel",
          "model_module_version": "1.5.0",
          "state": {
            "_dom_classes": [],
            "_model_module": "@jupyter-widgets/controls",
            "_model_module_version": "1.5.0",
            "_model_name": "FloatProgressModel",
            "_view_count": null,
            "_view_module": "@jupyter-widgets/controls",
            "_view_module_version": "1.5.0",
            "_view_name": "ProgressView",
            "bar_style": "success",
            "description": "",
            "description_tooltip": null,
            "layout": "IPY_MODEL_eba3a7d7a84c4ceda066f3bcd48fe4e3",
            "max": 12330,
            "min": 0,
            "orientation": "horizontal",
            "style": "IPY_MODEL_c2a0adebdf1c4dbb9acd9b9c3204650d",
            "value": 12330
          }
        },
        "13696cb3e43e4af2b0928a9f285e3680": {
          "model_module": "@jupyter-widgets/controls",
          "model_name": "HTMLModel",
          "model_module_version": "1.5.0",
          "state": {
            "_dom_classes": [],
            "_model_module": "@jupyter-widgets/controls",
            "_model_module_version": "1.5.0",
            "_model_name": "HTMLModel",
            "_view_count": null,
            "_view_module": "@jupyter-widgets/controls",
            "_view_module_version": "1.5.0",
            "_view_name": "HTMLView",
            "description": "",
            "description_tooltip": null,
            "layout": "IPY_MODEL_5778c496df1d41a785bac00ae03978c1",
            "placeholder": "​",
            "style": "IPY_MODEL_c91ca36c0f3142a0bcc77833f2c48b90",
            "value": " 12330/12330 [00:29&lt;00:00, 348.94it/s]"
          }
        },
        "9ae865d077b845cfb8be2ff63b51ddd1": {
          "model_module": "@jupyter-widgets/base",
          "model_name": "LayoutModel",
          "model_module_version": "1.2.0",
          "state": {
            "_model_module": "@jupyter-widgets/base",
            "_model_module_version": "1.2.0",
            "_model_name": "LayoutModel",
            "_view_count": null,
            "_view_module": "@jupyter-widgets/base",
            "_view_module_version": "1.2.0",
            "_view_name": "LayoutView",
            "align_content": null,
            "align_items": null,
            "align_self": null,
            "border": null,
            "bottom": null,
            "display": null,
            "flex": null,
            "flex_flow": null,
            "grid_area": null,
            "grid_auto_columns": null,
            "grid_auto_flow": null,
            "grid_auto_rows": null,
            "grid_column": null,
            "grid_gap": null,
            "grid_row": null,
            "grid_template_areas": null,
            "grid_template_columns": null,
            "grid_template_rows": null,
            "height": null,
            "justify_content": null,
            "justify_items": null,
            "left": null,
            "margin": null,
            "max_height": null,
            "max_width": null,
            "min_height": null,
            "min_width": null,
            "object_fit": null,
            "object_position": null,
            "order": null,
            "overflow": null,
            "overflow_x": null,
            "overflow_y": null,
            "padding": null,
            "right": null,
            "top": null,
            "visibility": null,
            "width": null
          }
        },
        "6c5f60c0664948729bbfa6fa0f2a1ac8": {
          "model_module": "@jupyter-widgets/base",
          "model_name": "LayoutModel",
          "model_module_version": "1.2.0",
          "state": {
            "_model_module": "@jupyter-widgets/base",
            "_model_module_version": "1.2.0",
            "_model_name": "LayoutModel",
            "_view_count": null,
            "_view_module": "@jupyter-widgets/base",
            "_view_module_version": "1.2.0",
            "_view_name": "LayoutView",
            "align_content": null,
            "align_items": null,
            "align_self": null,
            "border": null,
            "bottom": null,
            "display": null,
            "flex": null,
            "flex_flow": null,
            "grid_area": null,
            "grid_auto_columns": null,
            "grid_auto_flow": null,
            "grid_auto_rows": null,
            "grid_column": null,
            "grid_gap": null,
            "grid_row": null,
            "grid_template_areas": null,
            "grid_template_columns": null,
            "grid_template_rows": null,
            "height": null,
            "justify_content": null,
            "justify_items": null,
            "left": null,
            "margin": null,
            "max_height": null,
            "max_width": null,
            "min_height": null,
            "min_width": null,
            "object_fit": null,
            "object_position": null,
            "order": null,
            "overflow": null,
            "overflow_x": null,
            "overflow_y": null,
            "padding": null,
            "right": null,
            "top": null,
            "visibility": null,
            "width": null
          }
        },
        "4875be8943b844e9b0a70c8da2e7dc3d": {
          "model_module": "@jupyter-widgets/controls",
          "model_name": "DescriptionStyleModel",
          "model_module_version": "1.5.0",
          "state": {
            "_model_module": "@jupyter-widgets/controls",
            "_model_module_version": "1.5.0",
            "_model_name": "DescriptionStyleModel",
            "_view_count": null,
            "_view_module": "@jupyter-widgets/base",
            "_view_module_version": "1.2.0",
            "_view_name": "StyleView",
            "description_width": ""
          }
        },
        "eba3a7d7a84c4ceda066f3bcd48fe4e3": {
          "model_module": "@jupyter-widgets/base",
          "model_name": "LayoutModel",
          "model_module_version": "1.2.0",
          "state": {
            "_model_module": "@jupyter-widgets/base",
            "_model_module_version": "1.2.0",
            "_model_name": "LayoutModel",
            "_view_count": null,
            "_view_module": "@jupyter-widgets/base",
            "_view_module_version": "1.2.0",
            "_view_name": "LayoutView",
            "align_content": null,
            "align_items": null,
            "align_self": null,
            "border": null,
            "bottom": null,
            "display": null,
            "flex": null,
            "flex_flow": null,
            "grid_area": null,
            "grid_auto_columns": null,
            "grid_auto_flow": null,
            "grid_auto_rows": null,
            "grid_column": null,
            "grid_gap": null,
            "grid_row": null,
            "grid_template_areas": null,
            "grid_template_columns": null,
            "grid_template_rows": null,
            "height": null,
            "justify_content": null,
            "justify_items": null,
            "left": null,
            "margin": null,
            "max_height": null,
            "max_width": null,
            "min_height": null,
            "min_width": null,
            "object_fit": null,
            "object_position": null,
            "order": null,
            "overflow": null,
            "overflow_x": null,
            "overflow_y": null,
            "padding": null,
            "right": null,
            "top": null,
            "visibility": null,
            "width": null
          }
        },
        "c2a0adebdf1c4dbb9acd9b9c3204650d": {
          "model_module": "@jupyter-widgets/controls",
          "model_name": "ProgressStyleModel",
          "model_module_version": "1.5.0",
          "state": {
            "_model_module": "@jupyter-widgets/controls",
            "_model_module_version": "1.5.0",
            "_model_name": "ProgressStyleModel",
            "_view_count": null,
            "_view_module": "@jupyter-widgets/base",
            "_view_module_version": "1.2.0",
            "_view_name": "StyleView",
            "bar_color": null,
            "description_width": ""
          }
        },
        "5778c496df1d41a785bac00ae03978c1": {
          "model_module": "@jupyter-widgets/base",
          "model_name": "LayoutModel",
          "model_module_version": "1.2.0",
          "state": {
            "_model_module": "@jupyter-widgets/base",
            "_model_module_version": "1.2.0",
            "_model_name": "LayoutModel",
            "_view_count": null,
            "_view_module": "@jupyter-widgets/base",
            "_view_module_version": "1.2.0",
            "_view_name": "LayoutView",
            "align_content": null,
            "align_items": null,
            "align_self": null,
            "border": null,
            "bottom": null,
            "display": null,
            "flex": null,
            "flex_flow": null,
            "grid_area": null,
            "grid_auto_columns": null,
            "grid_auto_flow": null,
            "grid_auto_rows": null,
            "grid_column": null,
            "grid_gap": null,
            "grid_row": null,
            "grid_template_areas": null,
            "grid_template_columns": null,
            "grid_template_rows": null,
            "height": null,
            "justify_content": null,
            "justify_items": null,
            "left": null,
            "margin": null,
            "max_height": null,
            "max_width": null,
            "min_height": null,
            "min_width": null,
            "object_fit": null,
            "object_position": null,
            "order": null,
            "overflow": null,
            "overflow_x": null,
            "overflow_y": null,
            "padding": null,
            "right": null,
            "top": null,
            "visibility": null,
            "width": null
          }
        },
        "c91ca36c0f3142a0bcc77833f2c48b90": {
          "model_module": "@jupyter-widgets/controls",
          "model_name": "DescriptionStyleModel",
          "model_module_version": "1.5.0",
          "state": {
            "_model_module": "@jupyter-widgets/controls",
            "_model_module_version": "1.5.0",
            "_model_name": "DescriptionStyleModel",
            "_view_count": null,
            "_view_module": "@jupyter-widgets/base",
            "_view_module_version": "1.2.0",
            "_view_name": "StyleView",
            "description_width": ""
          }
        },
        "7cb0e7fee0df477aa84dac299637fa92": {
          "model_module": "@jupyter-widgets/controls",
          "model_name": "HBoxModel",
          "model_module_version": "1.5.0",
          "state": {
            "_dom_classes": [],
            "_model_module": "@jupyter-widgets/controls",
            "_model_module_version": "1.5.0",
            "_model_name": "HBoxModel",
            "_view_count": null,
            "_view_module": "@jupyter-widgets/controls",
            "_view_module_version": "1.5.0",
            "_view_name": "HBoxView",
            "box_style": "",
            "children": [
              "IPY_MODEL_7663267736364cb79923851b123c747f",
              "IPY_MODEL_f309284d1ca0449191c10dca92aa1ff7",
              "IPY_MODEL_940b5b1b65484951a365b28ba32e91f4"
            ],
            "layout": "IPY_MODEL_ef5b19431d654b319555c87ad291a1fa"
          }
        },
        "7663267736364cb79923851b123c747f": {
          "model_module": "@jupyter-widgets/controls",
          "model_name": "HTMLModel",
          "model_module_version": "1.5.0",
          "state": {
            "_dom_classes": [],
            "_model_module": "@jupyter-widgets/controls",
            "_model_module_version": "1.5.0",
            "_model_name": "HTMLModel",
            "_view_count": null,
            "_view_module": "@jupyter-widgets/controls",
            "_view_module_version": "1.5.0",
            "_view_name": "HTMLView",
            "description": "",
            "description_tooltip": null,
            "layout": "IPY_MODEL_c5e255c495aa40849fd910f197701ac0",
            "placeholder": "​",
            "style": "IPY_MODEL_62342afdd265481783399ed010b23a2d",
            "value": "100%"
          }
        },
        "f309284d1ca0449191c10dca92aa1ff7": {
          "model_module": "@jupyter-widgets/controls",
          "model_name": "FloatProgressModel",
          "model_module_version": "1.5.0",
          "state": {
            "_dom_classes": [],
            "_model_module": "@jupyter-widgets/controls",
            "_model_module_version": "1.5.0",
            "_model_name": "FloatProgressModel",
            "_view_count": null,
            "_view_module": "@jupyter-widgets/controls",
            "_view_module_version": "1.5.0",
            "_view_name": "ProgressView",
            "bar_style": "success",
            "description": "",
            "description_tooltip": null,
            "layout": "IPY_MODEL_c7956e84b6684ac680fe1df8a15ec1d9",
            "max": 12330,
            "min": 0,
            "orientation": "horizontal",
            "style": "IPY_MODEL_0bab832611b34daeb63359ca4cb201d0",
            "value": 12330
          }
        },
        "940b5b1b65484951a365b28ba32e91f4": {
          "model_module": "@jupyter-widgets/controls",
          "model_name": "HTMLModel",
          "model_module_version": "1.5.0",
          "state": {
            "_dom_classes": [],
            "_model_module": "@jupyter-widgets/controls",
            "_model_module_version": "1.5.0",
            "_model_name": "HTMLModel",
            "_view_count": null,
            "_view_module": "@jupyter-widgets/controls",
            "_view_module_version": "1.5.0",
            "_view_name": "HTMLView",
            "description": "",
            "description_tooltip": null,
            "layout": "IPY_MODEL_668efda26a964eb9974f447901904c65",
            "placeholder": "​",
            "style": "IPY_MODEL_a4fcf1384dc1447d93a6593566ac25ad",
            "value": " 12330/12330 [00:04&lt;00:00, 3187.69it/s]"
          }
        },
        "ef5b19431d654b319555c87ad291a1fa": {
          "model_module": "@jupyter-widgets/base",
          "model_name": "LayoutModel",
          "model_module_version": "1.2.0",
          "state": {
            "_model_module": "@jupyter-widgets/base",
            "_model_module_version": "1.2.0",
            "_model_name": "LayoutModel",
            "_view_count": null,
            "_view_module": "@jupyter-widgets/base",
            "_view_module_version": "1.2.0",
            "_view_name": "LayoutView",
            "align_content": null,
            "align_items": null,
            "align_self": null,
            "border": null,
            "bottom": null,
            "display": null,
            "flex": null,
            "flex_flow": null,
            "grid_area": null,
            "grid_auto_columns": null,
            "grid_auto_flow": null,
            "grid_auto_rows": null,
            "grid_column": null,
            "grid_gap": null,
            "grid_row": null,
            "grid_template_areas": null,
            "grid_template_columns": null,
            "grid_template_rows": null,
            "height": null,
            "justify_content": null,
            "justify_items": null,
            "left": null,
            "margin": null,
            "max_height": null,
            "max_width": null,
            "min_height": null,
            "min_width": null,
            "object_fit": null,
            "object_position": null,
            "order": null,
            "overflow": null,
            "overflow_x": null,
            "overflow_y": null,
            "padding": null,
            "right": null,
            "top": null,
            "visibility": null,
            "width": null
          }
        },
        "c5e255c495aa40849fd910f197701ac0": {
          "model_module": "@jupyter-widgets/base",
          "model_name": "LayoutModel",
          "model_module_version": "1.2.0",
          "state": {
            "_model_module": "@jupyter-widgets/base",
            "_model_module_version": "1.2.0",
            "_model_name": "LayoutModel",
            "_view_count": null,
            "_view_module": "@jupyter-widgets/base",
            "_view_module_version": "1.2.0",
            "_view_name": "LayoutView",
            "align_content": null,
            "align_items": null,
            "align_self": null,
            "border": null,
            "bottom": null,
            "display": null,
            "flex": null,
            "flex_flow": null,
            "grid_area": null,
            "grid_auto_columns": null,
            "grid_auto_flow": null,
            "grid_auto_rows": null,
            "grid_column": null,
            "grid_gap": null,
            "grid_row": null,
            "grid_template_areas": null,
            "grid_template_columns": null,
            "grid_template_rows": null,
            "height": null,
            "justify_content": null,
            "justify_items": null,
            "left": null,
            "margin": null,
            "max_height": null,
            "max_width": null,
            "min_height": null,
            "min_width": null,
            "object_fit": null,
            "object_position": null,
            "order": null,
            "overflow": null,
            "overflow_x": null,
            "overflow_y": null,
            "padding": null,
            "right": null,
            "top": null,
            "visibility": null,
            "width": null
          }
        },
        "62342afdd265481783399ed010b23a2d": {
          "model_module": "@jupyter-widgets/controls",
          "model_name": "DescriptionStyleModel",
          "model_module_version": "1.5.0",
          "state": {
            "_model_module": "@jupyter-widgets/controls",
            "_model_module_version": "1.5.0",
            "_model_name": "DescriptionStyleModel",
            "_view_count": null,
            "_view_module": "@jupyter-widgets/base",
            "_view_module_version": "1.2.0",
            "_view_name": "StyleView",
            "description_width": ""
          }
        },
        "c7956e84b6684ac680fe1df8a15ec1d9": {
          "model_module": "@jupyter-widgets/base",
          "model_name": "LayoutModel",
          "model_module_version": "1.2.0",
          "state": {
            "_model_module": "@jupyter-widgets/base",
            "_model_module_version": "1.2.0",
            "_model_name": "LayoutModel",
            "_view_count": null,
            "_view_module": "@jupyter-widgets/base",
            "_view_module_version": "1.2.0",
            "_view_name": "LayoutView",
            "align_content": null,
            "align_items": null,
            "align_self": null,
            "border": null,
            "bottom": null,
            "display": null,
            "flex": null,
            "flex_flow": null,
            "grid_area": null,
            "grid_auto_columns": null,
            "grid_auto_flow": null,
            "grid_auto_rows": null,
            "grid_column": null,
            "grid_gap": null,
            "grid_row": null,
            "grid_template_areas": null,
            "grid_template_columns": null,
            "grid_template_rows": null,
            "height": null,
            "justify_content": null,
            "justify_items": null,
            "left": null,
            "margin": null,
            "max_height": null,
            "max_width": null,
            "min_height": null,
            "min_width": null,
            "object_fit": null,
            "object_position": null,
            "order": null,
            "overflow": null,
            "overflow_x": null,
            "overflow_y": null,
            "padding": null,
            "right": null,
            "top": null,
            "visibility": null,
            "width": null
          }
        },
        "0bab832611b34daeb63359ca4cb201d0": {
          "model_module": "@jupyter-widgets/controls",
          "model_name": "ProgressStyleModel",
          "model_module_version": "1.5.0",
          "state": {
            "_model_module": "@jupyter-widgets/controls",
            "_model_module_version": "1.5.0",
            "_model_name": "ProgressStyleModel",
            "_view_count": null,
            "_view_module": "@jupyter-widgets/base",
            "_view_module_version": "1.2.0",
            "_view_name": "StyleView",
            "bar_color": null,
            "description_width": ""
          }
        },
        "668efda26a964eb9974f447901904c65": {
          "model_module": "@jupyter-widgets/base",
          "model_name": "LayoutModel",
          "model_module_version": "1.2.0",
          "state": {
            "_model_module": "@jupyter-widgets/base",
            "_model_module_version": "1.2.0",
            "_model_name": "LayoutModel",
            "_view_count": null,
            "_view_module": "@jupyter-widgets/base",
            "_view_module_version": "1.2.0",
            "_view_name": "LayoutView",
            "align_content": null,
            "align_items": null,
            "align_self": null,
            "border": null,
            "bottom": null,
            "display": null,
            "flex": null,
            "flex_flow": null,
            "grid_area": null,
            "grid_auto_columns": null,
            "grid_auto_flow": null,
            "grid_auto_rows": null,
            "grid_column": null,
            "grid_gap": null,
            "grid_row": null,
            "grid_template_areas": null,
            "grid_template_columns": null,
            "grid_template_rows": null,
            "height": null,
            "justify_content": null,
            "justify_items": null,
            "left": null,
            "margin": null,
            "max_height": null,
            "max_width": null,
            "min_height": null,
            "min_width": null,
            "object_fit": null,
            "object_position": null,
            "order": null,
            "overflow": null,
            "overflow_x": null,
            "overflow_y": null,
            "padding": null,
            "right": null,
            "top": null,
            "visibility": null,
            "width": null
          }
        },
        "a4fcf1384dc1447d93a6593566ac25ad": {
          "model_module": "@jupyter-widgets/controls",
          "model_name": "DescriptionStyleModel",
          "model_module_version": "1.5.0",
          "state": {
            "_model_module": "@jupyter-widgets/controls",
            "_model_module_version": "1.5.0",
            "_model_name": "DescriptionStyleModel",
            "_view_count": null,
            "_view_module": "@jupyter-widgets/base",
            "_view_module_version": "1.2.0",
            "_view_name": "StyleView",
            "description_width": ""
          }
        },
        "b65fe913008544a5891570d2f27ed9b0": {
          "model_module": "@jupyter-widgets/controls",
          "model_name": "HBoxModel",
          "model_module_version": "1.5.0",
          "state": {
            "_dom_classes": [],
            "_model_module": "@jupyter-widgets/controls",
            "_model_module_version": "1.5.0",
            "_model_name": "HBoxModel",
            "_view_count": null,
            "_view_module": "@jupyter-widgets/controls",
            "_view_module_version": "1.5.0",
            "_view_name": "HBoxView",
            "box_style": "",
            "children": [
              "IPY_MODEL_0b9510650cf543898c22610988597858",
              "IPY_MODEL_5b63ae113b134ea6b6240e9f4312949a",
              "IPY_MODEL_290768aa89f4465ca4f71fc0763209d4"
            ],
            "layout": "IPY_MODEL_021a46814eff41159d166a8bf2501227"
          }
        },
        "0b9510650cf543898c22610988597858": {
          "model_module": "@jupyter-widgets/controls",
          "model_name": "HTMLModel",
          "model_module_version": "1.5.0",
          "state": {
            "_dom_classes": [],
            "_model_module": "@jupyter-widgets/controls",
            "_model_module_version": "1.5.0",
            "_model_name": "HTMLModel",
            "_view_count": null,
            "_view_module": "@jupyter-widgets/controls",
            "_view_module_version": "1.5.0",
            "_view_name": "HTMLView",
            "description": "",
            "description_tooltip": null,
            "layout": "IPY_MODEL_85ab6e313ecc40c7bf95c9a3c16882b3",
            "placeholder": "​",
            "style": "IPY_MODEL_d4765bb8992a42ef8d964ce4bc04a030",
            "value": "100%"
          }
        },
        "5b63ae113b134ea6b6240e9f4312949a": {
          "model_module": "@jupyter-widgets/controls",
          "model_name": "FloatProgressModel",
          "model_module_version": "1.5.0",
          "state": {
            "_dom_classes": [],
            "_model_module": "@jupyter-widgets/controls",
            "_model_module_version": "1.5.0",
            "_model_name": "FloatProgressModel",
            "_view_count": null,
            "_view_module": "@jupyter-widgets/controls",
            "_view_module_version": "1.5.0",
            "_view_name": "ProgressView",
            "bar_style": "success",
            "description": "",
            "description_tooltip": null,
            "layout": "IPY_MODEL_21fb54996b9348a5996e2b3abbeaf814",
            "max": 12330,
            "min": 0,
            "orientation": "horizontal",
            "style": "IPY_MODEL_e4abce933bc44c5d9da2574b552877ca",
            "value": 12330
          }
        },
        "290768aa89f4465ca4f71fc0763209d4": {
          "model_module": "@jupyter-widgets/controls",
          "model_name": "HTMLModel",
          "model_module_version": "1.5.0",
          "state": {
            "_dom_classes": [],
            "_model_module": "@jupyter-widgets/controls",
            "_model_module_version": "1.5.0",
            "_model_name": "HTMLModel",
            "_view_count": null,
            "_view_module": "@jupyter-widgets/controls",
            "_view_module_version": "1.5.0",
            "_view_name": "HTMLView",
            "description": "",
            "description_tooltip": null,
            "layout": "IPY_MODEL_6c8a1cf8587a4dbbb3a4f5b896aaab07",
            "placeholder": "​",
            "style": "IPY_MODEL_11b49fec44b94a58a196f562d36fe912",
            "value": " 12330/12330 [00:25&lt;00:00, 688.66it/s]"
          }
        },
        "021a46814eff41159d166a8bf2501227": {
          "model_module": "@jupyter-widgets/base",
          "model_name": "LayoutModel",
          "model_module_version": "1.2.0",
          "state": {
            "_model_module": "@jupyter-widgets/base",
            "_model_module_version": "1.2.0",
            "_model_name": "LayoutModel",
            "_view_count": null,
            "_view_module": "@jupyter-widgets/base",
            "_view_module_version": "1.2.0",
            "_view_name": "LayoutView",
            "align_content": null,
            "align_items": null,
            "align_self": null,
            "border": null,
            "bottom": null,
            "display": null,
            "flex": null,
            "flex_flow": null,
            "grid_area": null,
            "grid_auto_columns": null,
            "grid_auto_flow": null,
            "grid_auto_rows": null,
            "grid_column": null,
            "grid_gap": null,
            "grid_row": null,
            "grid_template_areas": null,
            "grid_template_columns": null,
            "grid_template_rows": null,
            "height": null,
            "justify_content": null,
            "justify_items": null,
            "left": null,
            "margin": null,
            "max_height": null,
            "max_width": null,
            "min_height": null,
            "min_width": null,
            "object_fit": null,
            "object_position": null,
            "order": null,
            "overflow": null,
            "overflow_x": null,
            "overflow_y": null,
            "padding": null,
            "right": null,
            "top": null,
            "visibility": null,
            "width": null
          }
        },
        "85ab6e313ecc40c7bf95c9a3c16882b3": {
          "model_module": "@jupyter-widgets/base",
          "model_name": "LayoutModel",
          "model_module_version": "1.2.0",
          "state": {
            "_model_module": "@jupyter-widgets/base",
            "_model_module_version": "1.2.0",
            "_model_name": "LayoutModel",
            "_view_count": null,
            "_view_module": "@jupyter-widgets/base",
            "_view_module_version": "1.2.0",
            "_view_name": "LayoutView",
            "align_content": null,
            "align_items": null,
            "align_self": null,
            "border": null,
            "bottom": null,
            "display": null,
            "flex": null,
            "flex_flow": null,
            "grid_area": null,
            "grid_auto_columns": null,
            "grid_auto_flow": null,
            "grid_auto_rows": null,
            "grid_column": null,
            "grid_gap": null,
            "grid_row": null,
            "grid_template_areas": null,
            "grid_template_columns": null,
            "grid_template_rows": null,
            "height": null,
            "justify_content": null,
            "justify_items": null,
            "left": null,
            "margin": null,
            "max_height": null,
            "max_width": null,
            "min_height": null,
            "min_width": null,
            "object_fit": null,
            "object_position": null,
            "order": null,
            "overflow": null,
            "overflow_x": null,
            "overflow_y": null,
            "padding": null,
            "right": null,
            "top": null,
            "visibility": null,
            "width": null
          }
        },
        "d4765bb8992a42ef8d964ce4bc04a030": {
          "model_module": "@jupyter-widgets/controls",
          "model_name": "DescriptionStyleModel",
          "model_module_version": "1.5.0",
          "state": {
            "_model_module": "@jupyter-widgets/controls",
            "_model_module_version": "1.5.0",
            "_model_name": "DescriptionStyleModel",
            "_view_count": null,
            "_view_module": "@jupyter-widgets/base",
            "_view_module_version": "1.2.0",
            "_view_name": "StyleView",
            "description_width": ""
          }
        },
        "21fb54996b9348a5996e2b3abbeaf814": {
          "model_module": "@jupyter-widgets/base",
          "model_name": "LayoutModel",
          "model_module_version": "1.2.0",
          "state": {
            "_model_module": "@jupyter-widgets/base",
            "_model_module_version": "1.2.0",
            "_model_name": "LayoutModel",
            "_view_count": null,
            "_view_module": "@jupyter-widgets/base",
            "_view_module_version": "1.2.0",
            "_view_name": "LayoutView",
            "align_content": null,
            "align_items": null,
            "align_self": null,
            "border": null,
            "bottom": null,
            "display": null,
            "flex": null,
            "flex_flow": null,
            "grid_area": null,
            "grid_auto_columns": null,
            "grid_auto_flow": null,
            "grid_auto_rows": null,
            "grid_column": null,
            "grid_gap": null,
            "grid_row": null,
            "grid_template_areas": null,
            "grid_template_columns": null,
            "grid_template_rows": null,
            "height": null,
            "justify_content": null,
            "justify_items": null,
            "left": null,
            "margin": null,
            "max_height": null,
            "max_width": null,
            "min_height": null,
            "min_width": null,
            "object_fit": null,
            "object_position": null,
            "order": null,
            "overflow": null,
            "overflow_x": null,
            "overflow_y": null,
            "padding": null,
            "right": null,
            "top": null,
            "visibility": null,
            "width": null
          }
        },
        "e4abce933bc44c5d9da2574b552877ca": {
          "model_module": "@jupyter-widgets/controls",
          "model_name": "ProgressStyleModel",
          "model_module_version": "1.5.0",
          "state": {
            "_model_module": "@jupyter-widgets/controls",
            "_model_module_version": "1.5.0",
            "_model_name": "ProgressStyleModel",
            "_view_count": null,
            "_view_module": "@jupyter-widgets/base",
            "_view_module_version": "1.2.0",
            "_view_name": "StyleView",
            "bar_color": null,
            "description_width": ""
          }
        },
        "6c8a1cf8587a4dbbb3a4f5b896aaab07": {
          "model_module": "@jupyter-widgets/base",
          "model_name": "LayoutModel",
          "model_module_version": "1.2.0",
          "state": {
            "_model_module": "@jupyter-widgets/base",
            "_model_module_version": "1.2.0",
            "_model_name": "LayoutModel",
            "_view_count": null,
            "_view_module": "@jupyter-widgets/base",
            "_view_module_version": "1.2.0",
            "_view_name": "LayoutView",
            "align_content": null,
            "align_items": null,
            "align_self": null,
            "border": null,
            "bottom": null,
            "display": null,
            "flex": null,
            "flex_flow": null,
            "grid_area": null,
            "grid_auto_columns": null,
            "grid_auto_flow": null,
            "grid_auto_rows": null,
            "grid_column": null,
            "grid_gap": null,
            "grid_row": null,
            "grid_template_areas": null,
            "grid_template_columns": null,
            "grid_template_rows": null,
            "height": null,
            "justify_content": null,
            "justify_items": null,
            "left": null,
            "margin": null,
            "max_height": null,
            "max_width": null,
            "min_height": null,
            "min_width": null,
            "object_fit": null,
            "object_position": null,
            "order": null,
            "overflow": null,
            "overflow_x": null,
            "overflow_y": null,
            "padding": null,
            "right": null,
            "top": null,
            "visibility": null,
            "width": null
          }
        },
        "11b49fec44b94a58a196f562d36fe912": {
          "model_module": "@jupyter-widgets/controls",
          "model_name": "DescriptionStyleModel",
          "model_module_version": "1.5.0",
          "state": {
            "_model_module": "@jupyter-widgets/controls",
            "_model_module_version": "1.5.0",
            "_model_name": "DescriptionStyleModel",
            "_view_count": null,
            "_view_module": "@jupyter-widgets/base",
            "_view_module_version": "1.2.0",
            "_view_name": "StyleView",
            "description_width": ""
          }
        }
      }
    }
  },
  "nbformat": 4,
  "nbformat_minor": 0
}